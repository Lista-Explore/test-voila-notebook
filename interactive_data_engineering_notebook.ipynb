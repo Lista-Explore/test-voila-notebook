{
 "cells": [
  {
   "cell_type": "markdown",
   "id": "97b5183a",
   "metadata": {},
   "source": [
    "# Key Processes in Data Engineering\n",
    "\n",
    "### Learning Objective:\n",
    "- By the end of this section, learners will be able to outline key processes involved in designing and maintaining data infrastructure.\n",
    "\n",
    "## Interactive Activity: Fill in the Blanks\n",
    "\n",
    "Fill in the correct terms to complete the statements below.\n"
   ]
  },
  {
   "cell_type": "markdown",
   "id": "2dc91533",
   "metadata": {},
   "source": [
    "### Process 1: Data Collection\n",
    "\n",
    "Data collection involves gathering data from different **[Blank]**, such as websites, applications, or IoT sensors.\n"
   ]
  },
  {
   "cell_type": "code",
   "execution_count": null,
   "id": "1efafa29",
   "metadata": {},
   "outputs": [],
   "source": [
    "import ipywidgets as widgets\n",
    "from IPython.display import display\n",
    "\n",
    "answer1 = widgets.Text(description='Your answer:')\n",
    "submit_btn = widgets.Button(description='Submit')\n",
    "\n",
    "def check_answer(b):\n",
    "    if answer1.value.lower() == 'sources':\n",
    "        print('Correct!')\n",
    "    else:\n",
    "        print('Incorrect, try again.')\n",
    "\n",
    "submit_btn.on_click(check_answer)\n",
    "display(answer1, submit_btn)\n"
   ]
  },
  {
   "cell_type": "markdown",
   "id": "77e53c8f",
   "metadata": {},
   "source": [
    "### Process 2: Data Transformation\n",
    "\n",
    "Data transformation involves **[Blank]** raw data to make it usable.\n"
   ]
  },
  {
   "cell_type": "code",
   "execution_count": null,
   "id": "5fa65622",
   "metadata": {},
   "outputs": [],
   "source": [
    "answer2 = widgets.Text(description='Your answer:')\n",
    "submit_btn2 = widgets.Button(description='Submit')\n",
    "\n",
    "def check_answer2(b):\n",
    "    if answer2.value.lower() == 'cleaning':\n",
    "        print('Correct!')\n",
    "    else:\n",
    "        print('Incorrect, try again.')\n",
    "\n",
    "submit_btn2.on_click(check_answer2)\n",
    "display(answer2, submit_btn2)\n"
   ]
  },
  {
   "cell_type": "markdown",
   "id": "a8042fd5",
   "metadata": {},
   "source": [
    "# Drag-and-Drop Activity\n",
    "\n",
    "<p>Drag each item into its corresponding space:</p>\n",
    "\n",
    "<div id=\"drag-container\">\n",
    "  <div class=\"draggable\" draggable=\"true\" id=\"item1\">Item 1</div>\n",
    "  <div class=\"draggable\" draggable=\"true\" id=\"item2\">Item 2</div>\n",
    "  <div class=\"draggable\" draggable=\"true\" id=\"item3\">Item 3</div>\n",
    "</div>\n",
    "\n",
    "<div id=\"drop-container\">\n",
    "  <div class=\"dropzone\" id=\"space1\">Space 1</div>\n",
    "  <div class=\"dropzone\" id=\"space2\">Space 2</div>\n",
    "  <div class=\"dropzone\" id=\"space3\">Space 3</div>\n",
    "</div>\n",
    "\n",
    "<style>\n",
    "  #drag-container, #drop-container {\n",
    "    display: flex;\n",
    "    gap: 15px;\n",
    "    margin-bottom: 20px;\n",
    "  }\n",
    "  .draggable, .dropzone {\n",
    "    width: 100px;\n",
    "    height: 60px;\n",
    "    border: 2px solid #ccc;\n",
    "    border-radius: 5px;\n",
    "    text-align: center;\n",
    "    line-height: 60px;\n",
    "    font-weight: bold;\n",
    "    user-select: none;\n",
    "  }\n",
    "  .draggable {\n",
    "    background-color: #f0f0f0;\n",
    "    cursor: grab;\n",
    "  }\n",
    "  .dropzone {\n",
    "    background-color: #fafafa;\n",
    "  }\n",
    "  .dropzone.correct {\n",
    "    background-color: #c8e6c9;\n",
    "    border-color: #2e7d32;\n",
    "  }\n",
    "  .dropzone.incorrect {\n",
    "    background-color: #ffcdd2;\n",
    "    border-color: #c62828;\n",
    "  }\n",
    "</style>\n",
    "\n",
    "<script>\n",
    "  // Select all draggable items and drop zones\n",
    "  const draggables = document.querySelectorAll('.draggable');\n",
    "  const dropzones = document.querySelectorAll('.dropzone');\n",
    "\n",
    "  // Add drag start event to draggables\n",
    "  draggables.forEach(draggable => {\n",
    "    draggable.addEventListener('dragstart', e => {\n",
    "      e.dataTransfer.setData('text/plain', e.target.id);\n",
    "    });\n",
    "  });\n",
    "\n",
    "  // Add drag over and drop events to dropzones\n",
    "  dropzones.forEach(dropzone => {\n",
    "    dropzone.addEventListener('dragover', e => {\n",
    "      e.preventDefault(); // Allow dropping\n",
    "    });\n",
    "\n",
    "    dropzone.addEventListener('drop', e => {\n",
    "      e.preventDefault();\n",
    "      const draggableId = e.dataTransfer.getData('text/plain');\n",
    "      const draggableElement = document.getElementById(draggableId);\n",
    "\n",
    "      // Ensure only one item is in a drop zone at a time\n",
    "      if (!dropzone.hasChildNodes()) {\n",
    "        dropzone.appendChild(draggableElement);\n",
    "      }\n",
    "\n",
    "      // Check if the item matches the space\n",
    "      if (draggableId.replace('item', '') === dropzone.id.replace('space', '')) {\n",
    "        dropzone.classList.add('correct');\n",
    "        dropzone.classList.remove('incorrect');\n",
    "      } else {\n",
    "        dropzone.classList.add('incorrect');\n",
    "        dropzone.classList.remove('correct');\n",
    "      }\n",
    "    });\n",
    "  });\n",
    "</script>\n"
   ]
  },
  {
   "cell_type": "code",
   "execution_count": 14,
   "id": "328e3452",
   "metadata": {},
   "outputs": [
    {
     "data": {
      "application/vnd.jupyter.widget-view+json": {
       "model_id": "bb2ba5e1d86d4da8888bf1d34fdd917d",
       "version_major": 2,
       "version_minor": 0
      },
      "text/plain": [
       "VBox(children=(Label(value='Python was created by ____ van Rossum.'), Text(value='', placeholder='Type your an…"
      ]
     },
     "metadata": {},
     "output_type": "display_data"
    }
   ],
   "source": [
    "from ipywidgets import widgets\n",
    "from IPython.display import display, clear_output\n",
    "from fill_in_the_blank_grading import get_question_for_student, validate_answer\n",
    "\n",
    "# Get the question to display\n",
    "question = get_question_for_student()\n",
    "\n",
    "# Create widgets\n",
    "answer_widget = widgets.Text(placeholder='Type your answer here')\n",
    "submit_button = widgets.Button(description='Submit')\n",
    "output_widget = widgets.Output()\n",
    "\n",
    "# Define the function to handle submission\n",
    "def on_submit(b):\n",
    "    user_answer = answer_widget.value.strip()\n",
    "    with output_widget:\n",
    "        clear_output()\n",
    "        if validate_answer(question, user_answer):\n",
    "            print(\"✅ Correct!\")\n",
    "        else:\n",
    "            print(\"❌ Incorrect. Please try again.\")\n",
    "\n",
    "submit_button.on_click(on_submit)\n",
    "\n",
    "# Display the question and widgets\n",
    "display(widgets.VBox([widgets.Label(value=question), answer_widget, submit_button, output_widget]))\n"
   ]
  },
  {
   "cell_type": "code",
   "execution_count": null,
   "id": "ff757405",
   "metadata": {},
   "outputs": [],
   "source": []
  }
 ],
 "metadata": {
  "kernelspec": {
   "display_name": "Python 3",
   "language": "python",
   "name": "python3"
  },
  "language_info": {
   "codemirror_mode": {
    "name": "ipython",
    "version": 3
   },
   "file_extension": ".py",
   "mimetype": "text/x-python",
   "name": "python",
   "nbconvert_exporter": "python",
   "pygments_lexer": "ipython3",
   "version": "3.11.5"
  }
 },
 "nbformat": 4,
 "nbformat_minor": 5
}
