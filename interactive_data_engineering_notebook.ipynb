{
 "cells": [
  {
   "cell_type": "markdown",
   "id": "97b5183a",
   "metadata": {},
   "source": [
    "# Key Processes in Data Engineering\n",
    "\n",
    "### Learning Objective:\n",
    "- By the end of this section, learners will be able to outline key processes involved in designing and maintaining data infrastructure.\n",
    "\n",
    "## Interactive Activity: Fill in the Blanks\n",
    "\n",
    "Fill in the correct terms to complete the statements below.\n"
   ]
  },
  {
   "cell_type": "markdown",
   "id": "2dc91533",
   "metadata": {},
   "source": [
    "### Process 1: Data Collection\n",
    "\n",
    "Data collection involves gathering data from different **[Blank]**, such as websites, applications, or IoT sensors.\n"
   ]
  },
  {
   "cell_type": "code",
   "execution_count": 1,
   "id": "1efafa29",
   "metadata": {},
   "outputs": [
    {
     "data": {
      "application/vnd.jupyter.widget-view+json": {
       "model_id": "a0910c9318804019aac750c1396bc59d",
       "version_major": 2,
       "version_minor": 0
      },
      "text/plain": [
       "Text(value='', description='Your answer:')"
      ]
     },
     "metadata": {},
     "output_type": "display_data"
    },
    {
     "data": {
      "application/vnd.jupyter.widget-view+json": {
       "model_id": "633cde94162340f98a83dbe01f9b803e",
       "version_major": 2,
       "version_minor": 0
      },
      "text/plain": [
       "Button(description='Submit', style=ButtonStyle())"
      ]
     },
     "metadata": {},
     "output_type": "display_data"
    }
   ],
   "source": [
    "import ipywidgets as widgets\n",
    "from IPython.display import display\n",
    "\n",
    "answer1 = widgets.Text(description='Your answer:')\n",
    "submit_btn = widgets.Button(description='Submit')\n",
    "\n",
    "def check_answer(b):\n",
    "    if answer1.value.lower() == 'sources':\n",
    "        print('Correct!')\n",
    "    else:\n",
    "        print('Incorrect, try again.')\n",
    "\n",
    "submit_btn.on_click(check_answer)\n",
    "display(answer1, submit_btn)\n"
   ]
  },
  {
   "cell_type": "markdown",
   "id": "77e53c8f",
   "metadata": {},
   "source": [
    "### Process 2: Data Transformation\n",
    "\n",
    "Data transformation involves **[Blank]** raw data to make it usable.\n"
   ]
  },
  {
   "cell_type": "code",
   "execution_count": null,
   "id": "5fa65622",
   "metadata": {},
   "outputs": [],
   "source": [
    "answer2 = widgets.Text(description='Your answer:')\n",
    "submit_btn2 = widgets.Button(description='Submit')\n",
    "\n",
    "def check_answer2(b):\n",
    "    if answer2.value.lower() == 'cleaning':\n",
    "        print('Correct!')\n",
    "    else:\n",
    "        print('Incorrect, try again.')\n",
    "\n",
    "submit_btn2.on_click(check_answer2)\n",
    "display(answer2, submit_btn2)\n"
   ]
  }
 ],
 "metadata": {
  "kernelspec": {
   "display_name": "Python 3",
   "language": "python",
   "name": "python3"
  },
  "language_info": {
   "codemirror_mode": {
    "name": "ipython",
    "version": 3
   },
   "file_extension": ".py",
   "mimetype": "text/x-python",
   "name": "python",
   "nbconvert_exporter": "python",
   "pygments_lexer": "ipython3",
   "version": "3.11.4"
  }
 },
 "nbformat": 4,
 "nbformat_minor": 5
}
