from IPython.display import display, HTML
import json

# Paths to your local files
html_path = "drag.html"
data_path = "diagram_data.json"

# Read the HTML content from the local file
with open(html_path, 'r', encoding='utf-8') as f:
    html_content = f.read()

# Read the data file content
with open(data_path, 'r', encoding='utf-8') as f:
    diagram_data = json.load(f)

# Convert diagram_data to a JSON string
data_js = json.dumps(diagram_data)

# Inject the data into the HTML content
# Insert a script tag to set the diagramData variable
script_tag = f'<script>var diagramData = {data_js};</script>'
html_content = html_content.replace(
    '<script>',
    script_tag + '\n<script>'
)

# Display the HTML content
display(HTML(html_content))



from IPython.display import display, HTML
import json

# Paths to your local files
html_path = "drag.html"
data_path = "sw-dev.json"

# Read the HTML content from the local file
with open(html_path, 'r', encoding='utf-8') as f:
    html_content = f.read()

# Read the data file content
with open(data_path, 'r', encoding='utf-8') as f:
    diagram_data = json.load(f)

# Convert diagram_data to a JSON string
data_js = json.dumps(diagram_data)

# Inject the data into the HTML content
# Insert a script tag to set the diagramData variable
script_tag = f'<script>var diagramData = {data_js};</script>'
html_content = html_content.replace(
    '<script>',
    script_tag + '\n<script>'
)

# Display the HTML content
display(HTML(html_content))




