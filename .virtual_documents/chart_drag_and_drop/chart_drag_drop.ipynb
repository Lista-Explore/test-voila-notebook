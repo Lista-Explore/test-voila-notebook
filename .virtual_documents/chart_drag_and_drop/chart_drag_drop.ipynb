from IPython.display import display, HTML
import json

# Paths to your local files
html_path = "diagram.html"
data_path = "diagram_data.json"

# Read the HTML content from the local file
with open(html_path, 'r', encoding='utf-8') as f:
    html_content = f.read()

# Read the data file content
with open(data_path, 'r', encoding='utf-8') as f:
    data_json = json.load(f)

# Convert data_json to a JSON string
data_js = json.dumps(data_json)

# Inject the data into the HTML content
# Insert a script tag to set the data variable
script_tag = f'<script>var data = {data_js};</script>'
html_content = html_content.replace(
    '<script>',
    script_tag + '\n<script>'
)

# Display the HTML content
display(HTML(html_content))



import requests
from IPython.display import display, HTML

# GitHub raw URL for the HTML file
html_path = "diagram.html"

# Read the HTML content from the local file
with open(html_path, 'r', encoding='utf-8') as f:
    html_content = f.read()

# Display the HTML content
display(HTML(html_content))



import requests
from IPython.display import display, HTML
import json

# URLs to your hosted files (or local paths if running locally)
html_url = "diagram.html"
data_url = "etl.json"

# Read the HTML content from the local file
with open(html_path, 'r', encoding='utf-8') as f:
    html_content = f.read()

# Read the HTML content from the local file
with open(data_url, 'r', encoding='utf-8') as f:
    diagram_data = f.read()

# Convert diagram_data to a JSON string
data_js = json.dumps(diagram_data)

# Inject the data into the HTML content
# Insert a script tag to set the data variable
script_tag = f'<script>var data = {data_js};</script>'
html_content = html_content.replace(
    '<script>',
    script_tag + '\n<script>'
)

# Display the HTML content
display(HTML(html_content))




