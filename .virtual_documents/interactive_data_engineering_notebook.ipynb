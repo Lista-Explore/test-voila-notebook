


import urllib.request

# URL of the raw file on GitHub
url = 'https://raw.githubusercontent.com/Lista-Explore/test-voila-notebook/main/fill_in_the_blank.py'

# Download and execute the file
response = urllib.request.urlopen(url)
exec(response.read().decode('utf-8'))

# Now you can use display_questions() from fill_in_the_blank.py
display_questions()









from jupyterquiz import display_quiz

# Load the quiz from the JSON file
display_quiz('quiz.json')



