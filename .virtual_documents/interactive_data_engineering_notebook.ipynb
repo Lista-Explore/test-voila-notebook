


import urllib.request

# URL of the raw fill_in_the_blank.py file on GitHub
url = 'https://raw.githubusercontent.com/Lista-Explore/test-voila-notebook/main/fill_in_the_blank.py'

# Download and execute the file
response = urllib.request.urlopen(url)
exec(response.read().decode('utf-8'))

# Now you can use display_questions() from fill_in_the_blank.py

# Provide the path or URL to your questions file
# You can use a local file path or a URL
questions_file = 'https://raw.githubusercontent.com/Lista-Explore/test-voila-notebook/main/fill_in_questions.json'

# Display the questions
display_questions(questions_file)






from jupyterquiz import display_quiz


# Load the quiz from the JSON file
display_quiz('https://raw.githubusercontent.com/Lista-Explore/test-voila-notebook/main/quiz.json')





import requests
from IPython.display import display, HTML

# GitHub raw URL for the HTML file
url = "https://raw.githubusercontent.com/Lista-Explore/test-voila-notebook/main/drag_and_drop.html"

# Fetch the HTML content from the URL
response = requests.get(url)
html_content = response.text

# Display the HTML content
display(HTML(html_content))






import requests
from IPython.display import display, HTML

# GitHub raw URL for the HTML file
url = "https://raw.githubusercontent.com/Lista-Explore/test-voila-notebook/main/chart-drag-and-drop.html"

# Fetch the HTML content from the URL
response = requests.get(url)
html_content = response.text

# Display the HTML content
display(HTML(html_content))



from IPython.display import display, HTML
import json

# Path to your local HTML file
html_path = "drag_and_drop.html"

# Path to your local data file (questions/items)
data_path = "drag_and_drop_data.json"

# Read the HTML content from the local file
with open(html_path, 'r', encoding='utf-8') as f:
    html_content = f.read()

# Read the data file content
with open(data_path, 'r', encoding='utf-8') as f:
    data_json = json.load(f)

# Convert data_json to a JSON string
data_js = json.dumps(data_json)

# Inject the data into the HTML content
# Insert a script tag to set the data variable
script_tag = f'<script>var data = {data_js};</script>'
html_content = html_content.replace(
    '<script>',
    script_tag + '\n<script>'
)

# Display the HTML content
display(HTML(html_content))




