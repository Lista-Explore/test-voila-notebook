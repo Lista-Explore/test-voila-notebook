


import urllib.request

# URL of the raw file on GitHub
url = 'https://raw.githubusercontent.com/Lista-Explore/test-voila-notebook/main/fill_in_the_blank.py'

# Download and execute the file
response = urllib.request.urlopen(url)
exec(response.read().decode('utf-8'))

# Now you can use display_questions() from fill_in_the_blank.py
display_questions()






from IPython.display import display, HTML

html_content = """
<p>Drag each item into its corresponding space:</p>

<div id="drag-container">
  <div class="draggable" draggable="true" id="item1">Item 1</div>
  <div class="draggable" draggable="true" id="item2">Item 2</div>
  <div class="draggable" draggable="true" id="item3">Item 3</div>
</div>

<div id="drop-container">
  <div class="dropzone" id="space1">Space 1</div>
  <div class="dropzone" id="space2">Space 2</div>
  <div class="dropzone" id="space3">Space 3</div>
</div>

<style>
  #drag-container, #drop-container {
    display: flex;
    gap: 15px;
    margin-bottom: 20px;
  }
  .draggable, .dropzone {
    width: 100px;
    height: 60px;
    border: 2px solid #ccc;
    border-radius: 5px;
    text-align: center;
    line-height: 60px;
    font-weight: bold;
    user-select: none;
  }
  .draggable {
    background-color: #f0f0f0;
    cursor: grab;
  }
  .dropzone {
    background-color: #fafafa;
  }
  .dropzone.correct {
    background-color: #c8e6c9;
    border-color: #2e7d32;
  }
  .dropzone.incorrect {
    background-color: #ffcdd2;
    border-color: #c62828;
  }
</style>

<script>
  // Select all draggable items and drop zones
  const draggables = document.querySelectorAll('.draggable');
  const dropzones = document.querySelectorAll('.dropzone');

  // Add drag start event to draggables
  draggables.forEach(draggable => {
    draggable.addEventListener('dragstart', e => {
      e.dataTransfer.setData('text/plain', e.target.id);
    });
  });

  // Add drag over and drop events to dropzones
  dropzones.forEach(dropzone => {
    dropzone.addEventListener('dragover', e => {
      e.preventDefault(); // Allow dropping
    });

    dropzone.addEventListener('drop', e => {
      e.preventDefault();
      const draggableId = e.dataTransfer.getData('text/plain');
      const draggableElement = document.getElementById(draggableId);

      // Ensure only one item is in a drop zone at a time
      if (!dropzone.hasChildNodes()) {
        dropzone.appendChild(draggableElement);
      }

      // Check if the item matches the space
      if (draggableId.replace('item', '') === dropzone.id.replace('space', '')) {
        dropzone.classList.add('correct');
        dropzone.classList.remove('incorrect');
      } else {
        dropzone.classList.add('incorrect');
        dropzone.classList.remove('correct');
      }
    });
  });
</script>
"""

display(HTML(html_content))






from jupyterquiz import display_quiz

# Load the quiz from the JSON file
display_quiz('quiz.json')
