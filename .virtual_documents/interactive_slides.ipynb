








from ipywidgets import interact
import matplotlib.pyplot as plt
import numpy as np

def plot_wave(frequency=1.0):
    x = np.linspace(0, 10, 100)
    y = np.sin(frequency * x)
    plt.plot(x, y)
    plt.title(f"Sine Wave with Frequency {frequency}")
    plt.show()

interact(plot_wave, frequency=(0.1, 5.0, 0.1));
