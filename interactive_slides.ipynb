{
 "cells": [
  {
   "cell_type": "markdown",
   "metadata": {
    "slideshow": {
     "slide_type": "slide"
    }
   },
   "source": [
    "# Slide 1: Introduction\n",
    "\n",
    "This is an introduction slide. You can use this to explain the topic.\n",
    "\n",
    "---\n"
   ]
  },
  {
   "cell_type": "markdown",
   "metadata": {
    "slideshow": {
     "slide_type": "subslide"
    }
   },
   "source": [
    "# Slide 2: Interactive Code\n",
    "\n",
    "Now let's add some interactive code.\n",
    "\n",
    "```python\n",
    "import matplotlib.pyplot as plt\n",
    "import numpy as np\n",
    "\n",
    "x = np.linspace(0, 10, 100)\n",
    "y = np.sin(x)\n",
    "\n",
    "plt.plot(x, y)\n",
    "plt.title(\"Sine Wave\")\n",
    "plt.show()"
   ]
  },
  {
   "cell_type": "markdown",
   "metadata": {
    "slideshow": {
     "slide_type": "slide"
    }
   },
   "source": [
    "# Slide 3: Interactive Widgets Example\n",
    "\n",
    "Let's interact with some widgets!\n"
   ]
  },
  {
   "cell_type": "code",
   "execution_count": null,
   "metadata": {
    "slideshow": {
     "slide_type": "fragment"
    }
   },
   "outputs": [],
   "source": [
    "from ipywidgets import interact\n",
    "import matplotlib.pyplot as plt\n",
    "import numpy as np\n",
    "\n",
    "def plot_wave(frequency=1.0):\n",
    "    x = np.linspace(0, 10, 100)\n",
    "    y = np.sin(frequency * x)\n",
    "    plt.plot(x, y)\n",
    "    plt.title(f\"Sine Wave with Frequency {frequency}\")\n",
    "    plt.show()\n",
    "\n",
    "interact(plot_wave, frequency=(0.1, 5.0, 0.1));"
   ]
  }
 ],
 "metadata": {
  "language_info": {
   "name": "python"
  }
 },
 "nbformat": 4,
 "nbformat_minor": 2
}
